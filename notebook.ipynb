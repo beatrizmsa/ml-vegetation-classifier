{
 "cells": [
  {
   "cell_type": "code",
   "execution_count": 1,
   "id": "a5840dd3b558c1a1",
   "metadata": {
    "ExecuteTime": {
     "end_time": "2024-10-17T21:34:17.272203200Z",
     "start_time": "2024-10-17T21:34:12.459179Z"
    },
    "collapsed": false
   },
   "outputs": [],
   "source": [
    "import pandas as pd\n",
    "from utils import *\n",
    "from sklearn.linear_model import LogisticRegression\n",
    "from sklearn.discriminant_analysis import LinearDiscriminantAnalysis, QuadraticDiscriminantAnalysis\n",
    "from sklearn.model_selection import train_test_split, KFold, cross_val_score, LeaveOneOut\n",
    "from sklearn.metrics import classification_report\n",
    "from sklearn.utils import resample\n",
    "from sklearn.preprocessing import StandardScaler\n",
    "import matplotlib.pyplot as plt\n",
    "import warnings\n",
    "warnings.filterwarnings(\"ignore\")"
   ]
  },
  {
   "cell_type": "markdown",
   "id": "3ee4ea150060f468",
   "metadata": {
    "collapsed": false
   },
   "source": [
    "# Vegetation Classification using Machine Learning"
   ]
  },
  {
   "cell_type": "markdown",
   "id": "8050472015642f0b",
   "metadata": {
    "collapsed": false
   },
   "source": [
    "## Load Data"
   ]
  },
  {
   "cell_type": "code",
   "execution_count": 2,
   "id": "6b7560fe8a5971cc",
   "metadata": {
    "ExecuteTime": {
     "end_time": "2024-10-17T21:34:17.351498700Z",
     "start_time": "2024-10-17T21:34:17.275205900Z"
    },
    "collapsed": false
   },
   "outputs": [],
   "source": [
    "# Load all the classes into different Dataframes\n",
    "\n",
    "class1 = pd.read_csv('data/Data_Class_1.csv')\n",
    "class3 = pd.read_csv('data/Data_Class_3.csv')\n",
    "class6 = pd.read_csv('data/Data_Class_6.csv')"
   ]
  },
  {
   "cell_type": "markdown",
   "id": "c8200276603253f",
   "metadata": {
    "collapsed": false
   },
   "source": [
    "## Descriptive Statistics"
   ]
  },
  {
   "cell_type": "code",
   "execution_count": null,
   "id": "3dca8a69e2a73f71",
   "metadata": {
    "ExecuteTime": {
     "end_time": "2024-10-17T21:34:17.393998500Z",
     "start_time": "2024-10-17T21:34:17.353501500Z"
    },
    "collapsed": false
   },
   "outputs": [],
   "source": [
    "# Combine all classes into one dataset and view the top rows\n",
    "\n",
    "data = pd.concat([class1, class3, class6], ignore_index=True)\n",
    "data"
   ]
  },
  {
   "cell_type": "code",
   "execution_count": null,
   "id": "c7b15f249a15654c",
   "metadata": {
    "ExecuteTime": {
     "end_time": "2024-10-17T21:34:17.423959Z",
     "start_time": "2024-10-17T21:34:17.386666700Z"
    },
    "collapsed": false
   },
   "outputs": [],
   "source": [
    "# Check data types and non-null counts\n",
    "\n",
    "data.info()"
   ]
  },
  {
   "cell_type": "markdown",
   "id": "b901aee8b41f793b",
   "metadata": {
    "collapsed": false
   },
   "source": [
    "According to this information:\n",
    "- 5940 rows\n",
    "- 18 columns\n",
    "- No null values\n",
    "- 3 categorical columns and 15 numerical columns"
   ]
  },
  {
   "cell_type": "markdown",
   "id": "a1d958f94a2077a4",
   "metadata": {
    "collapsed": false
   },
   "source": [
    "### Numerical Columns\n",
    "View some metrics of each numerical column"
   ]
  },
  {
   "cell_type": "code",
   "execution_count": null,
   "id": "84291781cbf37c97",
   "metadata": {
    "ExecuteTime": {
     "end_time": "2024-10-17T21:34:17.610763Z",
     "start_time": "2024-10-17T21:34:17.413949600Z"
    },
    "collapsed": false
   },
   "outputs": [],
   "source": [
    "# Generate descriptive statistics of the numerical columns\n",
    "\n",
    "data.describe()"
   ]
  },
  {
   "cell_type": "markdown",
   "id": "dcb4960baa9d707d",
   "metadata": {
    "collapsed": false
   },
   "source": [
    "As displayed above, we can identify the following data characteristics:\n",
    "- The columns have different ranges of values\n",
    "- Some columns like the horizontal_distance_to_water have a significant difference between the mean and the median, indicating a possible skewness in the data\n",
    "- When comparing the third quartile and the maximum value, we can see that some columns have outliers since the maximum value is significantly higher than the third quartile\n",
    "- The same can be said for the minimum value and the first quartile, where the minimum value is significantly lower than the first quartile\n",
    "- The standard deviation of the features possess a wide range of magnitudes, indicating that in some columns the data is spread out from the mean"
   ]
  },
  {
   "cell_type": "markdown",
   "id": "8bf13c875028731e",
   "metadata": {
    "collapsed": false
   },
   "source": [
    "### Categorical columns"
   ]
  },
  {
   "cell_type": "code",
   "execution_count": null,
   "id": "efb71ccd0c8aa910",
   "metadata": {
    "ExecuteTime": {
     "end_time": "2024-10-17T21:34:17.611764300Z",
     "start_time": "2024-10-17T21:34:17.466882100Z"
    },
    "collapsed": false
   },
   "outputs": [],
   "source": [
    "# Generate descriptive statistics of the categorical columns\n",
    "\n",
    "data.describe(include='object')"
   ]
  },
  {
   "cell_type": "markdown",
   "id": "9cc72df3f4942d5b",
   "metadata": {
    "collapsed": false
   },
   "source": [
    "The categorical columns have the following characteristics:\n",
    "- We have two columns with few unique values and one column with many unique values. We need to take this into account when encoding the data.\n",
    "- The most frequent values of each column are present in at least 25% of the rows"
   ]
  },
  {
   "cell_type": "markdown",
   "id": "c6f58b8632ec1517",
   "metadata": {
    "collapsed": false
   },
   "source": [
    "## Univariate Analysis"
   ]
  },
  {
   "cell_type": "code",
   "execution_count": 7,
   "id": "22e4f020bdb1efe2",
   "metadata": {
    "ExecuteTime": {
     "end_time": "2024-10-17T21:34:17.612764400Z",
     "start_time": "2024-10-17T21:34:17.480513800Z"
    },
    "collapsed": false
   },
   "outputs": [],
   "source": [
    "# Get the name of the numerical and categorical columns\n",
    "\n",
    "numerical_columns = data.select_dtypes(exclude='object').columns.drop('Id')\n",
    "categorical_columns = data.select_dtypes(include='object').columns"
   ]
  },
  {
   "cell_type": "code",
   "execution_count": null,
   "id": "229f29a1f714ab99",
   "metadata": {
    "ExecuteTime": {
     "end_time": "2024-10-17T21:34:19.791174Z",
     "start_time": "2024-10-17T21:34:17.489883300Z"
    },
    "collapsed": false
   },
   "outputs": [],
   "source": [
    "# Draw the boxplot visualizations of the numerical columns\n",
    "\n",
    "boxplot_visualization(data, numerical_columns, 'Boxplot visualization of the numerical columns')"
   ]
  },
  {
   "cell_type": "markdown",
   "id": "f013f57b3d7b8303",
   "metadata": {
    "collapsed": false
   },
   "source": [
    "- Several columns such as the Horizontal_Distance_To_Water, Horizontal_Distance_To_Roadways, and Horizontal_Distance_To_Fire_Points have a significant number of outliers. \n",
    "These outliers may appear since different types of vegetation may have very distinct characteristics and values linked to them. If further investigation reveals that it is not the case, they may affect the performance of the models and it might be important to consider removing them.\n",
    "- Given the length of the boxes, the majority of the data contains less variability since have narrow boxes. The Slope_Orientation column has a wide box, so we can identify that the values have more variability."
   ]
  },
  {
   "cell_type": "code",
   "execution_count": null,
   "id": "45be65eb3da9b037",
   "metadata": {
    "ExecuteTime": {
     "end_time": "2024-10-17T21:34:20.355416200Z",
     "start_time": "2024-10-17T21:34:19.829172400Z"
    },
    "collapsed": false
   },
   "outputs": [],
   "source": [
    "# Draw the barplot visualizations of the categorical columns\n",
    "\n",
    "barplot_visualization(data, categorical_columns, 'Barplot visualization of the categorical columns')"
   ]
  },
  {
   "cell_type": "markdown",
   "id": "d654a08771d47239",
   "metadata": {
    "collapsed": false
   },
   "source": [
    "- Given the distribution of the categorical columns there are clear outliers in the Soil_Type and Wilderness_Area.\n",
    "- Our classes appear in similar frequencies and it suggests that we will not encounter issues related to class imbalance, which is a crucial information to have in mind when evaluating the models."
   ]
  },
  {
   "cell_type": "markdown",
   "id": "8d25dec61e087df6",
   "metadata": {
    "collapsed": false
   },
   "source": [
    "## Bivariate Analysis"
   ]
  },
  {
   "cell_type": "code",
   "execution_count": 10,
   "id": "568810400389f277",
   "metadata": {
    "ExecuteTime": {
     "end_time": "2024-10-17T21:34:20.371491500Z",
     "start_time": "2024-10-17T21:34:20.355416200Z"
    },
    "collapsed": false
   },
   "outputs": [],
   "source": [
    "# Encode the categorical columns\n",
    "\n",
    "encoded_data = data.copy()\n",
    "encoded_data['Soil_Type_Enc'] = pd.factorize(data['Soil_Type'])[0]\n",
    "encoded_data['Wilderness_Area_Enc'] = pd.factorize(data['Wilderness_Area'])[0]\n",
    "encoded_data['Vegetation_Type_Enc'] = pd.factorize(data['Vegetation_Type'])[0]"
   ]
  },
  {
   "cell_type": "code",
   "execution_count": null,
   "id": "b56723e670d59363",
   "metadata": {
    "ExecuteTime": {
     "end_time": "2024-10-17T21:34:20.440998100Z",
     "start_time": "2024-10-17T21:34:20.369492800Z"
    },
    "collapsed": false
   },
   "outputs": [],
   "source": [
    "# Generate descriptive statistics of data after encoding\n",
    "\n",
    "encoded_data.describe()"
   ]
  },
  {
   "cell_type": "markdown",
   "id": "c49821706b9be835",
   "metadata": {
    "collapsed": false
   },
   "source": [
    "The encoded data has the following characteristics:\n",
    "- The columns have different ranges of values, since the encoding was done based on the number of unique values in each column\n",
    "- The mean and median values are close to each other, indicating that the data is not skewed\n",
    "- The column with the highest standard deviation is the Soil_Type_Enc column, indicating that the data is spread out from the mean\n"
   ]
  },
  {
   "cell_type": "code",
   "execution_count": null,
   "id": "2dfe58ea8a961e05",
   "metadata": {
    "ExecuteTime": {
     "end_time": "2024-10-17T21:34:21.618484400Z",
     "start_time": "2024-10-17T21:34:20.419999600Z"
    },
    "collapsed": false
   },
   "outputs": [],
   "source": [
    "# Remove Id for correlation matrix\n",
    "\n",
    "encoded_data_without_id = encoded_data.drop('Id', axis=1)\n",
    "plt.figure(figsize=(15, 15)) \n",
    "sns.heatmap(encoded_data_without_id.corr(numeric_only=True), cmap=\"coolwarm\", annot=True, fmt=\".2f\")\n",
    "plt.show()"
   ]
  },
  {
   "cell_type": "markdown",
   "id": "ed38fafabff955f3",
   "metadata": {
    "collapsed": false
   },
   "source": [
    "The correlation of the features with the target column varies a lot and we can see that we have both highly correlated and uncorrelated features. The first ones may be the most important for our analysis, while the second ones may not provide any benefit.\n",
    "In the next step, the columns with close to 0 correlation with the target column will be deleted, seeing as these do not provide any benefit to our analysis.\n",
    "\n",
    "This applies to the following columns:\n",
    "- Canopy_Density\n",
    "- Rainfall_Summer\n",
    "- Rainfall_Winter\n",
    "- Wind_Exposure_Level"
   ]
  },
  {
   "cell_type": "code",
   "execution_count": 13,
   "id": "12d0cfa637ac5074",
   "metadata": {
    "ExecuteTime": {
     "end_time": "2024-10-17T21:34:21.620482500Z",
     "start_time": "2024-10-17T21:34:21.617483800Z"
    },
    "collapsed": false
   },
   "outputs": [],
   "source": [
    "# Removing the columns without any correlation\n",
    "\n",
    "encoded_data_without_id = encoded_data_without_id.drop(['Canopy_Density', 'Rainfall_Summer', 'Rainfall_Winter', 'Wind_Exposure_Level'], axis=1)"
   ]
  },
  {
   "cell_type": "code",
   "execution_count": null,
   "id": "b6f4db0257cd93e1",
   "metadata": {
    "ExecuteTime": {
     "end_time": "2024-10-17T21:34:22.243454300Z",
     "start_time": "2024-10-17T21:34:21.625485700Z"
    },
    "collapsed": false
   },
   "outputs": [],
   "source": [
    "# Generate the heatmap of the data after removing the columns\n",
    "\n",
    "corr_matrix = encoded_data_without_id.corr(numeric_only=True)\n",
    "plt.figure(figsize=(15, 15)) \n",
    "sns.heatmap(corr_matrix, cmap=\"coolwarm\", annot=True, fmt=\".2f\")\n",
    "plt.show()"
   ]
  },
  {
   "cell_type": "markdown",
   "id": "6ffb8157424c2d59",
   "metadata": {
    "collapsed": false
   },
   "source": [
    "- Without the columns that do not correlate with the target column, we can see that the correlation between the features and the target column is more evident. All these columns may help, to some extent, to predict the target column."
   ]
  },
  {
   "cell_type": "code",
   "execution_count": null,
   "id": "be79ae0d6a816b40",
   "metadata": {
    "ExecuteTime": {
     "end_time": "2024-10-17T21:34:22.264207100Z",
     "start_time": "2024-10-17T21:34:22.243454300Z"
    },
    "collapsed": false
   },
   "outputs": [],
   "source": [
    "# Display the correlation matrix\n",
    "\n",
    "corr_matrix['Vegetation_Type_Enc'].sort_values()"
   ]
  },
  {
   "cell_type": "code",
   "execution_count": null,
   "id": "bf23b5ba25ad5569",
   "metadata": {
    "ExecuteTime": {
     "end_time": "2024-10-17T21:34:24.269357800Z",
     "start_time": "2024-10-17T21:34:22.253690600Z"
    },
    "collapsed": false
   },
   "outputs": [],
   "source": [
    "# Draw the boxplot visualizations of the numerical columns by Vegetation type (Target variable)\n",
    "\n",
    "boxplot_by_type_visualization(data, numerical_columns, 'Boxplot visualization of the numerical columns by Vegetation type')"
   ]
  },
  {
   "cell_type": "markdown",
   "id": "1b3c89c7e007b43a",
   "metadata": {
    "collapsed": false
   },
   "source": [
    "- In the boxplots there are some columns that have outliers for each different Vegetation_Type.\n",
    "- Some features like the Altitude, Horizontal_Distance_To_Roadways, slope and Horizontal_Distance_To_Fire_Points have very distinct boxes for the Type_1 of the target variable. This indicates that these columns might be very good predictors of the label."
   ]
  },
  {
   "cell_type": "code",
   "execution_count": null,
   "id": "1864626c61783a37",
   "metadata": {
    "ExecuteTime": {
     "end_time": "2024-10-17T21:34:25.052278900Z",
     "start_time": "2024-10-17T21:34:24.269357800Z"
    },
    "collapsed": false
   },
   "outputs": [],
   "source": [
    "# Draw the crosstable visualizations of the numerical columns by Vegetation type (Target variable)\n",
    "\n",
    "crosstab_by_type_visualization(data, categorical_columns, 'Barplot visualization of the categorical columns by Vegetation type')"
   ]
  },
  {
   "cell_type": "markdown",
   "id": "51cc91ba68eca0fe",
   "metadata": {
    "collapsed": false
   },
   "source": [
    "- The crosstables show that some values of the categorical features are more frequent or even exclusive in some classes than in others. This indicates that these columns may be good predictors of the target variable."
   ]
  },
  {
   "cell_type": "markdown",
   "id": "86c4c08fdad527b8",
   "metadata": {
    "collapsed": false
   },
   "source": [
    "## Methods Application"
   ]
  },
  {
   "cell_type": "code",
   "execution_count": 18,
   "id": "c88350d46e4decc0",
   "metadata": {
    "ExecuteTime": {
     "end_time": "2024-10-17T21:34:25.067164900Z",
     "start_time": "2024-10-17T21:34:25.054285700Z"
    },
    "collapsed": false
   },
   "outputs": [],
   "source": [
    "# Load the models to be evaluated\n",
    "\n",
    "models = {\n",
    "    'Logistic Regression': LogisticRegression(max_iter=200),\n",
    "    'LDA': LinearDiscriminantAnalysis(),\n",
    "    'QDA': QuadraticDiscriminantAnalysis()\n",
    "}"
   ]
  },
  {
   "cell_type": "markdown",
   "id": "c3e294cd6567c84",
   "metadata": {
    "collapsed": false
   },
   "source": [
    "### Data Preparation"
   ]
  },
  {
   "cell_type": "code",
   "execution_count": 19,
   "id": "5e37aec837a387e4",
   "metadata": {
    "ExecuteTime": {
     "end_time": "2024-10-17T21:34:25.079676200Z",
     "start_time": "2024-10-17T21:34:25.059163700Z"
    },
    "collapsed": false
   },
   "outputs": [],
   "source": [
    "# Divide the data into features and target variable and separate the training and test data\n",
    "\n",
    "X = encoded_data.drop(columns=['Vegetation_Type', 'Soil_Type', 'Wilderness_Area','Vegetation_Type_Enc', 'Id'])\n",
    "y = encoded_data['Vegetation_Type_Enc']\n",
    "X_train, X_test, y_train, y_test = train_test_split(X, y, test_size=0.3, random_state=42)"
   ]
  },
  {
   "cell_type": "code",
   "execution_count": 20,
   "id": "dd596aa55e480da3",
   "metadata": {
    "ExecuteTime": {
     "end_time": "2024-10-17T21:34:25.176782500Z",
     "start_time": "2024-10-17T21:34:25.073586600Z"
    },
    "collapsed": false
   },
   "outputs": [],
   "source": [
    "# Rescales each feature to have a mean of 0 and a standard deviation of 1\n",
    "\n",
    "scaler = StandardScaler()\n",
    "X_train = scaler.fit_transform(X_train)\n",
    "X_test = scaler.transform(X_test)"
   ]
  },
  {
   "cell_type": "code",
   "execution_count": 84,
   "id": "b8abff00b72b8c71",
   "metadata": {
    "ExecuteTime": {
     "end_time": "2024-10-17T21:34:25.194781800Z",
     "start_time": "2024-10-17T21:34:25.090419300Z"
    },
    "collapsed": false
   },
   "outputs": [],
   "source": [
    "# Dataframe to store the metrics for each model and method\n",
    "\n",
    "data_results = pd.DataFrame(columns=['Model', 'Method', 'Accuracy', 'Precision', 'Recall', 'F1', 'Std Dev', 'Confusion Matrix'])"
   ]
  },
  {
   "cell_type": "markdown",
   "id": "6aa4bd1d989a1dee",
   "metadata": {
    "collapsed": false
   },
   "source": [
    "- Since our dataset is balanced, we can use the accuracy metric to evaluate the models since it gives us a good overview of the model's performance.\n",
    "- It is also useful to use the precision, recall to ensure that the model is not biased towards a specific class. Given the fact that we want to balance the precision and recall, the F1 score is a good metric to use.\n",
    "- The confusion matrix will help identify misclassifications since it shows the number of correct and incorrect predictions for each class."
   ]
  },
  {
   "cell_type": "markdown",
   "id": "b1a310605bdc4a71",
   "metadata": {
    "collapsed": false
   },
   "source": [
    "### Holdout Method"
   ]
  },
  {
   "cell_type": "code",
   "execution_count": 22,
   "id": "51105e1ad8e256d8",
   "metadata": {
    "ExecuteTime": {
     "end_time": "2024-10-17T21:34:25.296707800Z",
     "start_time": "2024-10-17T21:34:25.095112100Z"
    },
    "collapsed": false
   },
   "outputs": [],
   "source": [
    "holdout_evaluation(data_results,models, X_train, X_test, y_train, y_test)"
   ]
  },
  {
   "cell_type": "markdown",
   "id": "3ebecfa99720d362",
   "metadata": {
    "collapsed": false
   },
   "source": [
    "### Cross Validation (K=5)"
   ]
  },
  {
   "cell_type": "code",
   "execution_count": 23,
   "id": "c5c0dd197aa8f42c",
   "metadata": {
    "ExecuteTime": {
     "end_time": "2024-10-17T21:34:31.762902700Z",
     "start_time": "2024-10-17T21:34:25.299708Z"
    },
    "collapsed": false
   },
   "outputs": [],
   "source": [
    "cross_validation_evaluation(data_results,models, X, y, 5)"
   ]
  },
  {
   "cell_type": "markdown",
   "id": "3058ba4a4ad7b75e",
   "metadata": {
    "collapsed": false
   },
   "source": [
    "### Cross Validation (K=10)"
   ]
  },
  {
   "cell_type": "code",
   "execution_count": 24,
   "id": "d63ddada97c3359f",
   "metadata": {
    "ExecuteTime": {
     "end_time": "2024-10-17T21:34:33.636439200Z",
     "start_time": "2024-10-17T21:34:31.765901600Z"
    },
    "collapsed": false
   },
   "outputs": [],
   "source": [
    "cross_validation_evaluation(data_results,models, X, y, 10)"
   ]
  },
  {
   "cell_type": "markdown",
   "id": "24efc31106c2f698",
   "metadata": {
    "collapsed": false
   },
   "source": [
    "### Leave One Out Cross Validation (LOOCV)"
   ]
  },
  {
   "cell_type": "code",
   "execution_count": null,
   "id": "3f307fc26f637d98",
   "metadata": {
    "ExecuteTime": {
     "end_time": "2024-10-17T21:34:33.656603400Z",
     "start_time": "2024-10-17T21:34:33.638614300Z"
    },
    "collapsed": false
   },
   "outputs": [],
   "source": [
    "loocv_evaluation(data_results, models, X, y)"
   ]
  },
  {
   "cell_type": "markdown",
   "id": "f4ecb749016fa1ad",
   "metadata": {
    "collapsed": false
   },
   "source": [
    "### Bootstrap"
   ]
  },
  {
   "cell_type": "code",
   "execution_count": 26,
   "id": "ee6e4bbed6c2ced1",
   "metadata": {
    "ExecuteTime": {
     "end_time": "2024-10-17T21:34:33.656603400Z",
     "start_time": "2024-10-17T21:34:33.644135500Z"
    },
    "collapsed": false
   },
   "outputs": [],
   "source": [
    "bootstrap_evaluation(data_results, models, encoded_data, 100)"
   ]
  },
  {
   "cell_type": "markdown",
   "id": "2414cee77727e860",
   "metadata": {
    "collapsed": false
   },
   "source": [
    "### Results "
   ]
  },
  {
   "cell_type": "code",
   "execution_count": null,
   "id": "dba7fa9be2f9c05f",
   "metadata": {
    "ExecuteTime": {
     "end_time": "2024-10-17T21:34:33.711672600Z",
     "start_time": "2024-10-17T21:34:33.651391200Z"
    },
    "collapsed": false
   },
   "outputs": [],
   "source": [
    "# Display the dataframe with the metrics for each model and method\n",
    "\n",
    "data_results"
   ]
  },
  {
   "cell_type": "code",
   "execution_count": null,
   "id": "bbbb3f5354f73c36",
   "metadata": {
    "ExecuteTime": {
     "end_time": "2024-10-17T21:34:38.024634600Z",
     "start_time": "2024-10-17T21:34:33.837548400Z"
    },
    "collapsed": false
   },
   "outputs": [],
   "source": [
    "confusion_matrix_visualization(data_results, 'Confusion Matrix')"
   ]
  },
  {
   "cell_type": "markdown",
   "id": "75f95a74",
   "metadata": {},
   "source": [
    "With theses confusion matrices, we can see that the all the models can easily identify the first Vegetation Type, while for the other two, it has more difficulty in distinguising between them, resulting in a lot of wrong predictions. This is expected considering that, as we saw in our analysis before, there aren't many features which provide a distinction between the Vegetation Types 3 and 6.\n",
    "\n",
    "In order to improve our results, we need to study which features have a higher impact in the metrics for the models, and select the ones that provide the best results."
   ]
  },
  {
   "cell_type": "markdown",
   "id": "76a7320eae08805b",
   "metadata": {
    "collapsed": false
   },
   "source": [
    "## Feature Selection"
   ]
  },
  {
   "cell_type": "markdown",
   "id": "de8bd9ef",
   "metadata": {},
   "source": [
    "### Ridge Regression"
   ]
  },
  {
   "cell_type": "code",
   "execution_count": null,
   "id": "ee66ff91",
   "metadata": {},
   "outputs": [],
   "source": [
    "col_names = X.columns\n",
    "apply_ridge_regression(col_names, X_train, y_train, X_test, y_test)"
   ]
  },
  {
   "cell_type": "markdown",
   "id": "29eba9be",
   "metadata": {},
   "source": [
    "### Lasso"
   ]
  },
  {
   "cell_type": "code",
   "execution_count": null,
   "id": "ca8cc366",
   "metadata": {},
   "outputs": [],
   "source": [
    "apply_lasso(col_names, X_train, y_train, X_test, y_test)"
   ]
  },
  {
   "cell_type": "markdown",
   "id": "46ee6c00",
   "metadata": {},
   "source": [
    "### Elastic Net"
   ]
  },
  {
   "cell_type": "code",
   "execution_count": null,
   "id": "df0b702c",
   "metadata": {},
   "outputs": [],
   "source": [
    "apply_elastic_net(col_names, X_train, y_train, X_test, y_test)"
   ]
  },
  {
   "cell_type": "markdown",
   "id": "7823928b",
   "metadata": {},
   "source": [
    "Having used all of these regularization methods, we first need to decide which one we will use to decide the features.\n",
    "\n",
    "We can make this decision based on the models' RMSE, training and testing score, along with the coeficients each one produced. So, considering this, we can determine that Ridge Regression gave us the best results seeing as it resulted in a higher score for both the training and testing datasets, and the lowest RMSE. Besides that, we can also extract more information from the coeficients, like the impact of the Shadow_Index_9h, Shadow_Index_12h, Shadow_Index_15h features, which are omitted in the other models.\n",
    "\n",
    "Now we can make adjustments to the dataset's features and verify the results, which will be done next."
   ]
  },
  {
   "cell_type": "markdown",
   "id": "319dfcf2",
   "metadata": {},
   "source": [
    "#### Data preparation with best features"
   ]
  },
  {
   "cell_type": "code",
   "execution_count": 85,
   "id": "8bd53113",
   "metadata": {},
   "outputs": [],
   "source": [
    "# Dropping features with lowest coeficients\n",
    "new_encoded_data = encoded_data.drop(\n",
    "    columns=[\n",
    "        'Slope_Orientation',\n",
    "        'Horizontal_Distance_To_Water',\n",
    "        'Vertical_Distance_To_Water',\n",
    "        'Horizontal_Distance_To_Roadways',\n",
    "        'Horizontal_Distance_To_Fire_Points',\n",
    "        'Canopy_Density',\n",
    "        'Rainfall_Summer',\n",
    "        'Rainfall_Winter',\n",
    "        'Wind_Exposure_Level'\n",
    "    ]\n",
    ")\n",
    "\n",
    "new_X = new_encoded_data.drop(columns=['Vegetation_Type', 'Soil_Type', 'Wilderness_Area','Vegetation_Type_Enc', 'Id'])\n",
    "X_train, X_test, y_train, y_test = train_test_split(new_X, y, test_size=0.3, random_state=42)"
   ]
  },
  {
   "cell_type": "code",
   "execution_count": 86,
   "id": "94ee787a",
   "metadata": {},
   "outputs": [],
   "source": [
    "X_train = scaler.fit_transform(X_train)\n",
    "X_test = scaler.transform(X_test)"
   ]
  },
  {
   "cell_type": "markdown",
   "id": "12dc18ff",
   "metadata": {},
   "source": [
    "### Holdout With Best Features"
   ]
  },
  {
   "cell_type": "code",
   "execution_count": 87,
   "id": "5caea2e2",
   "metadata": {},
   "outputs": [],
   "source": [
    "holdout_evaluation(data_results, models, X_train, X_test, y_train, y_test, \" with best features\")"
   ]
  },
  {
   "cell_type": "markdown",
   "id": "e1ddc64d",
   "metadata": {},
   "source": [
    "### Cross Validation (K=5)"
   ]
  },
  {
   "cell_type": "code",
   "execution_count": 88,
   "id": "d10ae595",
   "metadata": {},
   "outputs": [],
   "source": [
    "cross_validation_evaluation(data_results, models, new_X, y, 5, \" with best features\")"
   ]
  },
  {
   "cell_type": "markdown",
   "id": "b7290aa4",
   "metadata": {},
   "source": [
    "### Cross Validation (K=10)"
   ]
  },
  {
   "cell_type": "code",
   "execution_count": 89,
   "id": "1653553f",
   "metadata": {},
   "outputs": [],
   "source": [
    "cross_validation_evaluation(data_results, models, new_X, y, 10, \" with best features\")"
   ]
  },
  {
   "cell_type": "markdown",
   "id": "3ce60f4b",
   "metadata": {},
   "source": [
    "### Leave One Out Cross Validation (LOOCV)"
   ]
  },
  {
   "cell_type": "code",
   "execution_count": null,
   "id": "d62440ae",
   "metadata": {},
   "outputs": [],
   "source": [
    "loocv_evaluation(data_results, models, new_X, y, \" with best features\")"
   ]
  },
  {
   "cell_type": "markdown",
   "id": "75b29304",
   "metadata": {},
   "source": [
    "### Bootstrap"
   ]
  },
  {
   "cell_type": "code",
   "execution_count": 91,
   "id": "d7729fb3",
   "metadata": {},
   "outputs": [],
   "source": [
    "bootstrap_evaluation(data_results, models, new_encoded_data, 100, \" with best features\")"
   ]
  },
  {
   "cell_type": "markdown",
   "id": "d05b10cf",
   "metadata": {},
   "source": [
    "### Results"
   ]
  },
  {
   "cell_type": "code",
   "execution_count": null,
   "id": "89d4bacf",
   "metadata": {},
   "outputs": [],
   "source": [
    "data_results"
   ]
  },
  {
   "cell_type": "code",
   "execution_count": null,
   "id": "6518b439",
   "metadata": {},
   "outputs": [],
   "source": [
    "confusion_matrix_visualization(data_results, 'Confusion Matrix')"
   ]
  }
 ],
 "metadata": {
  "kernelspec": {
   "display_name": "venv",
   "language": "python",
   "name": "python3"
  },
  "language_info": {
   "codemirror_mode": {
    "name": "ipython",
    "version": 3
   },
   "file_extension": ".py",
   "mimetype": "text/x-python",
   "name": "python",
   "nbconvert_exporter": "python",
   "pygments_lexer": "ipython3",
   "version": "3.11.10"
  }
 },
 "nbformat": 4,
 "nbformat_minor": 5
}
