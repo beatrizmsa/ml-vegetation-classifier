{
 "cells": [
  {
   "cell_type": "code",
   "outputs": [],
   "source": [
    "import pandas as pd\n",
    "from utils import *\n",
    "from sklearn.linear_model import LogisticRegression\n",
    "from sklearn.discriminant_analysis import LinearDiscriminantAnalysis, QuadraticDiscriminantAnalysis\n",
    "from sklearn.model_selection import train_test_split, KFold, cross_val_score, LeaveOneOut,GridSearchCV\n",
    "from sklearn.metrics import classification_report\n",
    "from sklearn.utils import resample\n",
    "from sklearn.preprocessing import StandardScaler\n",
    "import matplotlib.pyplot as plt\n",
    "import warnings\n",
    "warnings.filterwarnings(\"ignore\")"
   ],
   "metadata": {
    "collapsed": false
   },
   "id": "50645152b8c7c679"
  },
  {
   "cell_type": "markdown",
   "source": [
    "# Vegetation Classification using Machine Learning"
   ],
   "metadata": {
    "collapsed": false
   },
   "id": "c6d3e5c1e73e7c0"
  },
  {
   "cell_type": "markdown",
   "source": [
    "## Load Data"
   ],
   "metadata": {
    "collapsed": false
   },
   "id": "ab5632040acd891c"
  },
  {
   "cell_type": "code",
   "outputs": [],
   "source": [
    "# Load all the classes into different Dataframes\n",
    "\n",
    "class1 = pd.read_csv('data/Data_Class_1.csv')\n",
    "class3 = pd.read_csv('data/Data_Class_3.csv')\n",
    "class6 = pd.read_csv('data/Data_Class_6.csv')"
   ],
   "metadata": {
    "collapsed": false
   },
   "id": "e24f6ff15d0b3900"
  },
  {
   "cell_type": "markdown",
   "source": [
    "## Descriptive Statistics"
   ],
   "metadata": {
    "collapsed": false
   },
   "id": "a4abe735fbd8e58d"
  },
  {
   "cell_type": "code",
   "outputs": [],
   "source": [
    "# Combine all classes into one dataset and view the top rows\n",
    "\n",
    "data = pd.concat([class1, class3, class6], ignore_index=True)\n",
    "data"
   ],
   "metadata": {
    "collapsed": false
   },
   "id": "d93ae3521ea46de0"
  },
  {
   "cell_type": "code",
   "outputs": [],
   "source": [
    "# Check data types and non-null counts\n",
    "\n",
    "data.info()"
   ],
   "metadata": {
    "collapsed": false
   },
   "id": "f09b4d7d7397777b"
  },
  {
   "cell_type": "markdown",
   "source": [
    "According to this information:\n",
    "- 5940 rows\n",
    "- 18 columns\n",
    "- No null values\n",
    "- 3 categorical columns and 15 numerical columns"
   ],
   "metadata": {
    "collapsed": false
   },
   "id": "9a15ff52ef08f036"
  },
  {
   "cell_type": "markdown",
   "source": [
    "### Numerical Columns\n",
    "View some metrics of each numerical column"
   ],
   "metadata": {
    "collapsed": false
   },
   "id": "a9c7fde9cfc6c1df"
  },
  {
   "cell_type": "code",
   "outputs": [],
   "source": [
    "# Generate descriptive statistics of the numerical columns\n",
    "\n",
    "data.describe()"
   ],
   "metadata": {
    "collapsed": false
   },
   "id": "ce06b515a5ad6a1a"
  },
  {
   "cell_type": "markdown",
   "source": [
    "As displayed above, we can identify the following data characteristics:\n",
    "- The columns have different ranges of values\n",
    "- Some columns like the horizontal_distance_to_water have a significant difference between the mean and the median, indicating a possible skewness in the data\n",
    "- When comparing the third quartile and the maximum value, we can see that some columns have outliers since the maximum value is significantly higher than the third quartile\n",
    "- The same can be said for the minimum value and the first quartile, where the minimum value is significantly lower than the first quartile\n",
    "- The standard deviation of the features possess a wide range of magnitudes, indicating that in some columns the data is spread out from the mean"
   ],
   "metadata": {
    "collapsed": false
   },
   "id": "ee2dc165b24b5ff2"
  },
  {
   "cell_type": "markdown",
   "source": [
    "### Categorical columns"
   ],
   "metadata": {
    "collapsed": false
   },
   "id": "b2959af4f2b9ed43"
  },
  {
   "cell_type": "code",
   "outputs": [],
   "source": [
    "# Generate descriptive statistics of the categorical columns\n",
    "\n",
    "data.describe(include='object')"
   ],
   "metadata": {
    "collapsed": false
   },
   "id": "cbcf35e1414577ba"
  },
  {
   "cell_type": "markdown",
   "source": [
    "The categorical columns have the following characteristics:\n",
    "- We have two columns with few unique values and one column with many unique values. We need to take this into account when encoding the data.\n",
    "- The most frequent values of each column are present in at least 25% of the rows"
   ],
   "metadata": {
    "collapsed": false
   },
   "id": "501842f8b624c08f"
  },
  {
   "cell_type": "markdown",
   "source": [
    "## Univariate Analysis"
   ],
   "metadata": {
    "collapsed": false
   },
   "id": "3bb6fd437b1b218b"
  },
  {
   "cell_type": "code",
   "outputs": [],
   "source": [
    "# Get the name of the numerical and categorical columns\n",
    "\n",
    "numerical_columns = data.select_dtypes(exclude='object').columns.drop('Id')\n",
    "categorical_columns = data.select_dtypes(include='object').columns"
   ],
   "metadata": {
    "collapsed": false
   },
   "id": "5e770b23d94a2007"
  },
  {
   "cell_type": "code",
   "outputs": [],
   "source": [
    "# Draw the boxplot visualizations of the numerical columns\n",
    "\n",
    "boxplot_visualization(data, numerical_columns, 'Boxplot visualization of the numerical columns')"
   ],
   "metadata": {
    "collapsed": false
   },
   "id": "827b07aa3fbe2f7c"
  },
  {
   "cell_type": "markdown",
   "source": [
    "- Several columns such as the Horizontal_Distance_To_Water, Horizontal_Distance_To_Roadways, and Horizontal_Distance_To_Fire_Points have a significant number of outliers. \n",
    "These outliers may appear since different types of vegetation may have very distinct characteristics and values linked to them. If further investigation reveals that it is not the case, they may affect the performance of the models and it might be important to consider removing them.\n",
    "- Given the length of the boxes, the majority of the data contains less variability since have narrow boxes. The Slope_Orientation column has a wide box, so we can identify that the values have more variability."
   ],
   "metadata": {
    "collapsed": false
   },
   "id": "5d8a338770719a47"
  },
  {
   "cell_type": "code",
   "outputs": [],
   "source": [
    "# Draw the barplot visualizations of the categorical columns\n",
    "\n",
    "barplot_visualization(data, categorical_columns, 'Barplot visualization of the categorical columns')"
   ],
   "metadata": {
    "collapsed": false
   },
   "id": "151de5353a8352bb"
  },
  {
   "cell_type": "markdown",
   "source": [
    "- Given the distribution of the categorical columns there are clear outliers in the Soil_Type and Wilderness_Area.\n",
    "- Our classes appear in similar frequencies and it suggests that we will not encounter issues related to class imbalance, which is a crucial information to have in mind when evaluating the models."
   ],
   "metadata": {
    "collapsed": false
   },
   "id": "5088134d08e3b9d1"
  },
  {
   "cell_type": "markdown",
   "source": [
    "## Bivariate Analysis"
   ],
   "metadata": {
    "collapsed": false
   },
   "id": "2b9d92cec21b6d6a"
  },
  {
   "cell_type": "code",
   "outputs": [],
   "source": [
    "# Encode the categorical columns\n",
    "\n",
    "encoded_data = data.copy()\n",
    "encoded_data['Soil_Type_Enc'] = pd.factorize(data['Soil_Type'])[0]\n",
    "encoded_data['Wilderness_Area_Enc'] = pd.factorize(data['Wilderness_Area'])[0]\n",
    "encoded_data['Vegetation_Type_Enc'] = pd.factorize(data['Vegetation_Type'])[0]"
   ],
   "metadata": {
    "collapsed": false
   },
   "id": "60ebf485087f3682"
  },
  {
   "cell_type": "code",
   "outputs": [],
   "source": [
    "# Generate descriptive statistics of data after encoding\n",
    "\n",
    "encoded_data.describe()"
   ],
   "metadata": {
    "collapsed": false
   },
   "id": "5f5e3c008775884f"
  },
  {
   "cell_type": "markdown",
   "source": [
    "The encoded data has the following characteristics:\n",
    "- The columns have different ranges of values, since the encoding was done based on the number of unique values in each column\n",
    "- The mean and median values are close to each other, indicating that the data is not skewed\n",
    "- The column with the highest standard deviation is the Soil_Type_Enc column, indicating that the data is spread out from the mean\n"
   ],
   "metadata": {
    "collapsed": false
   },
   "id": "1da1c593e7e71b4c"
  },
  {
   "cell_type": "code",
   "outputs": [],
   "source": [
    "# Remove Id for correlation matrix\n",
    "\n",
    "encoded_data_without_id = encoded_data.drop('Id', axis=1)"
   ],
   "metadata": {
    "collapsed": false
   },
   "id": "467bb6cccf2dcb0b"
  },
  {
   "cell_type": "code",
   "outputs": [],
   "source": [
    "# Generate heatmap of the data\n",
    "\n",
    "heatmap_visualization(encoded_data_without_id, 'Heatmap visualization')"
   ],
   "metadata": {
    "collapsed": false
   },
   "id": "d3e15b4c518dbbe6"
  },
  {
   "cell_type": "markdown",
   "source": [
    "The correlation of the features with the target column varies a lot and we can see that we have both highly correlated and uncorrelated features. The first ones may be the most important for our analysis, while the second ones may not provide any benefit.\n",
    "In the next step, the columns with close to 0 correlation with the target column will be deleted, seeing as these do not provide any benefit to our analysis.\n",
    "\n",
    "This applies to the following columns:\n",
    "- Canopy_Density\n",
    "- Rainfall_Summer\n",
    "- Rainfall_Winter\n",
    "- Wind_Exposure_Level"
   ],
   "metadata": {
    "collapsed": false
   },
   "id": "34f5642a0f9e0e89"
  },
  {
   "cell_type": "code",
   "outputs": [],
   "source": [
    "# Removing the columns without any correlation\n",
    "\n",
    "encoded_data_without_id = encoded_data_without_id.drop(['Canopy_Density', 'Rainfall_Summer', 'Rainfall_Winter', 'Wind_Exposure_Level'], axis=1)"
   ],
   "metadata": {
    "collapsed": false
   },
   "id": "ad3bf7f839f52d0c"
  },
  {
   "cell_type": "code",
   "outputs": [],
   "source": [
    "# Generate the heatmap of the data after removing the columns\n",
    "\n",
    "heatmap_visualization(encoded_data_without_id, 'Heatmap visualization')"
   ],
   "metadata": {
    "collapsed": false
   },
   "id": "39ffe55a10ca6ec4"
  },
  {
   "cell_type": "markdown",
   "source": [
    "- Without the columns that do not correlate with the target column, we can see that the correlation between the features and the target column is more evident. All these columns may help, to some extent, to predict the target column."
   ],
   "metadata": {
    "collapsed": false
   },
   "id": "4d30bf53d56c2315"
  },
  {
   "cell_type": "code",
   "outputs": [],
   "source": [
    "# Display the correlation matrix\n",
    "\n",
    "corr_matrix = encoded_data_without_id.corr(numeric_only=True)\n",
    "corr_matrix['Vegetation_Type_Enc'].sort_values()"
   ],
   "metadata": {
    "collapsed": false
   },
   "id": "7c6ea5d56ef92815"
  },
  {
   "cell_type": "code",
   "outputs": [],
   "source": [
    "# Draw the boxplot visualizations of the numerical columns by Vegetation type (Target variable)\n",
    "\n",
    "boxplot_by_type_visualization(data, numerical_columns, 'Boxplot visualization of the numerical columns by Vegetation type')"
   ],
   "metadata": {
    "collapsed": false
   },
   "id": "3c1b7e8c15d71fe4"
  },
  {
   "cell_type": "markdown",
   "source": [
    "- In the boxplots there are some columns that have outliers for each different Vegetation_Type.\n",
    "- Some features like the Altitude, Horizontal_Distance_To_Roadways, slope and Horizontal_Distance_To_Fire_Points have very distinct boxes for the Type_1 of the target variable. This indicates that these columns might be very good predictors of the label."
   ],
   "metadata": {
    "collapsed": false
   },
   "id": "bbe0c621d39d30a2"
  },
  {
   "cell_type": "code",
   "outputs": [],
   "source": [
    "# Draw the crosstable visualizations of the numerical columns by Vegetation type (Target variable)\n",
    "\n",
    "crosstab_by_type_visualization(data, categorical_columns, 'Barplot visualization of the categorical columns by Vegetation type')"
   ],
   "metadata": {
    "collapsed": false
   },
   "id": "23157061dd602c6"
  },
  {
   "cell_type": "markdown",
   "source": [
    "- The crosstables show that some values of the categorical features are more frequent or even exclusive in some classes than in others. This indicates that these columns may be good predictors of the target variable."
   ],
   "metadata": {
    "collapsed": false
   },
   "id": "ee74bd66fc6242ce"
  },
  {
   "cell_type": "markdown",
   "source": [
    "## Methods Application"
   ],
   "metadata": {
    "collapsed": false
   },
   "id": "a4db96c6a618ab82"
  },
  {
   "cell_type": "code",
   "outputs": [],
   "source": [
    "# Load the models to be evaluated\n",
    "\n",
    "models = {\n",
    "    'Logistic Regression': LogisticRegression(max_iter=200),\n",
    "    'LDA': LinearDiscriminantAnalysis(),\n",
    "    'QDA': QuadraticDiscriminantAnalysis()\n",
    "}"
   ],
   "metadata": {
    "collapsed": false
   },
   "id": "c7d76d0800368820"
  },
  {
   "cell_type": "markdown",
   "source": [
    "### Data Preparation"
   ],
   "metadata": {
    "collapsed": false
   },
   "id": "c255c542f62b3d38"
  },
  {
   "cell_type": "code",
   "outputs": [],
   "source": [
    "# Divide the data into features and target variable and separate the training and test data\n",
    "\n",
    "X = encoded_data.drop(columns=['Vegetation_Type', 'Soil_Type', 'Wilderness_Area','Vegetation_Type_Enc', 'Id'])\n",
    "y = encoded_data['Vegetation_Type_Enc']\n",
    "X_train, X_test, y_train, y_test = train_test_split(X, y, test_size=0.3, random_state=42)"
   ],
   "metadata": {
    "collapsed": false
   },
   "id": "99578e6d60f145c6"
  },
  {
   "cell_type": "code",
   "outputs": [],
   "source": [
    "# Rescales each feature to have a mean of 0 and a standard deviation of 1\n",
    "\n",
    "scaler = StandardScaler()\n",
    "X_train = scaler.fit_transform(X_train)\n",
    "X_test = scaler.transform(X_test)"
   ],
   "metadata": {
    "collapsed": false
   },
   "id": "abe738730fcbeda2"
  },
  {
   "cell_type": "code",
   "outputs": [],
   "source": [
    "# Dataframe to store the metrics for each model and method\n",
    "\n",
    "data_results = pd.DataFrame(columns=['Model', 'Method', 'Accuracy', 'Precision', 'Recall', 'F1', 'Std Dev', 'Confusion Matrix'])"
   ],
   "metadata": {
    "collapsed": false
   },
   "id": "d99aeba09e7b8e4c"
  },
  {
   "cell_type": "markdown",
   "source": [
    "- Since our dataset is balanced, we can use the accuracy metric to evaluate the models since it gives us a good overview of the model's performance.\n",
    "- It is also useful to use the precision, recall to ensure that the model is not biased towards a specific class. Given the fact that we want to balance the precision and recall, the F1 score is a good metric to use.\n",
    "- The confusion matrix will help identify misclassifications since it shows the number of correct and incorrect predictions for each class."
   ],
   "metadata": {
    "collapsed": false
   },
   "id": "fb1147fc101bfd4f"
  },
  {
   "cell_type": "markdown",
   "source": [
    "### Holdout Method"
   ],
   "metadata": {
    "collapsed": false
   },
   "id": "fa93b0312e284202"
  },
  {
   "cell_type": "code",
   "outputs": [],
   "source": [
    "holdout_evaluation(data_results,models, X_train, X_test, y_train, y_test)"
   ],
   "metadata": {
    "collapsed": false
   },
   "id": "b82955796a6496d0"
  },
  {
   "cell_type": "markdown",
   "source": [
    "### Cross Validation (K=5)"
   ],
   "metadata": {
    "collapsed": false
   },
   "id": "ef9de16a2e527d86"
  },
  {
   "cell_type": "code",
   "outputs": [],
   "source": [
    "cross_validation_evaluation(data_results,models, X, y, 5)"
   ],
   "metadata": {
    "collapsed": false
   },
   "id": "d8e5c7961a648cd2"
  },
  {
   "cell_type": "markdown",
   "source": [
    "### Cross Validation (K=10)"
   ],
   "metadata": {
    "collapsed": false
   },
   "id": "7951550d745ca2b4"
  },
  {
   "cell_type": "code",
   "outputs": [],
   "source": [
    "cross_validation_evaluation(data_results,models, X, y, 10)"
   ],
   "metadata": {
    "collapsed": false
   },
   "id": "1f013ef466d424ce"
  },
  {
   "cell_type": "markdown",
   "source": [
    "### Leave One Out Cross Validation (LOOCV)"
   ],
   "metadata": {
    "collapsed": false
   },
   "id": "c6fcc802c3be89df"
  },
  {
   "cell_type": "code",
   "outputs": [],
   "source": [
    "#loocv_evaluation(data_results, models, X, y)"
   ],
   "metadata": {
    "collapsed": false
   },
   "id": "5d9729266f783335"
  },
  {
   "cell_type": "markdown",
   "source": [
    "### Bootstrap"
   ],
   "metadata": {
    "collapsed": false
   },
   "id": "ac0b421a5cd51c9a"
  },
  {
   "cell_type": "code",
   "outputs": [],
   "source": [
    "bootstrap_evaluation(data_results, models,X, y, 100)"
   ],
   "metadata": {
    "collapsed": false
   },
   "id": "90bfacb53295ccf6"
  },
  {
   "cell_type": "markdown",
   "source": [
    "### Results "
   ],
   "metadata": {
    "collapsed": false
   },
   "id": "720c05f34d763c70"
  },
  {
   "cell_type": "code",
   "outputs": [],
   "source": [
    "# Display the dataframe with the metrics for each model and method\n",
    "\n",
    "data_results"
   ],
   "metadata": {
    "collapsed": false
   },
   "id": "346f3d819713097"
  },
  {
   "cell_type": "markdown",
   "source": [
    "- As we can see above, the models have similar results since the accuracy, precision, recall and F1 scores are in the range of 0.78 to 0.80. This can indicate that the performance of the models is consistent.\n",
    "- As the variance equals to the square of the standard deviation, we can conclude that the resampling method have an impact on the results. The methods with the lowest variance are the Cross Validation with K=5 and the Bootstrap. Cross Validation with K=10 has the highest variance and Holdout method does not have a variance since it is a single split. "
   ],
   "metadata": {
    "collapsed": false
   },
   "id": "ad987350a08f47ad"
  },
  {
   "cell_type": "code",
   "outputs": [],
   "source": [
    "confusion_matrix_visualization(data_results, 'Confusion Matrix')"
   ],
   "metadata": {
    "collapsed": false
   },
   "id": "5b0e7d4e9755ba68"
  },
  {
   "cell_type": "markdown",
   "source": [
    "With theses confusion matrices, we can see that the all the models can easily identify the first Vegetation Type, while for the other two, it has more difficulty in distinguising between them, resulting in a lot of wrong predictions. This is expected considering that, as we saw in our analysis before, there aren't many features which provide a distinction between the Vegetation Types 3 and 6.\n",
    "\n",
    "In order to improve our results, we need to study which features have a higher impact in the metrics for the models, and select the ones that provide the best results."
   ],
   "metadata": {
    "collapsed": false
   },
   "id": "e1fc5896794fa66b"
  },
  {
   "cell_type": "markdown",
   "source": [
    "## Feature Selection"
   ],
   "metadata": {
    "collapsed": false
   },
   "id": "172f46692ff55207"
  },
  {
   "cell_type": "markdown",
   "source": [
    "### Find the best range for C"
   ],
   "metadata": {
    "collapsed": false
   },
   "id": "f172ab4d80709ee8"
  },
  {
   "cell_type": "code",
   "outputs": [],
   "source": [
    "def best_feature_grid_search(X_train, y_train, parameters, model):\n",
    "    grid = GridSearchCV(model, parameters, cv=KFold(n_splits=5, shuffle=True, random_state=42))\n",
    "\n",
    "    grid.fit(scaler.transform(X_train), y_train)\n",
    "\n",
    "    return grid.best_params_"
   ],
   "metadata": {
    "collapsed": false
   },
   "id": "7d9fe9bbb497af6b"
  },
  {
   "cell_type": "code",
   "outputs": [],
   "source": [
    "model = LogisticRegression()"
   ],
   "metadata": {
    "collapsed": false
   },
   "id": "aa9a0aebbf603cd3"
  },
  {
   "cell_type": "markdown",
   "source": [
    "#### Lasso"
   ],
   "metadata": {
    "collapsed": false
   },
   "id": "2b008c6b647195da"
  },
  {
   "cell_type": "markdown",
   "source": [
    "##### 0- 10"
   ],
   "metadata": {
    "collapsed": false
   },
   "id": "2907ba6d3d75d0aa"
  },
  {
   "cell_type": "code",
   "outputs": [],
   "source": [
    "parameters = {'C': np.arange(0, 10, 0.01), 'penalty': ['l1'], 'solver': ['saga']}\n",
    "best_parameter_C = best_feature_grid_search(X_train, y_train, parameters, model)"
   ],
   "metadata": {
    "collapsed": false
   },
   "id": "deb38ebbbf72e863"
  },
  {
   "cell_type": "code",
   "outputs": [],
   "source": [
    "best_parameter_C"
   ],
   "metadata": {
    "collapsed": false
   },
   "id": "3a0fa85a04f86f38"
  },
  {
   "cell_type": "markdown",
   "source": [
    "##### Rigde "
   ],
   "metadata": {
    "collapsed": false
   },
   "id": "ca055df3c8a0c718"
  },
  {
   "cell_type": "code",
   "outputs": [],
   "source": [
    "#parameters = {'C': np.arange(0, 0.5, 0.01), 'penalty': ['l1']}"
   ],
   "metadata": {
    "collapsed": false
   },
   "id": "8de75d1326dd3f2a"
  },
  {
   "cell_type": "code",
   "outputs": [],
   "source": [],
   "metadata": {
    "collapsed": false
   },
   "id": "f2df6550d69b1d3"
  },
  {
   "cell_type": "markdown",
   "source": [
    "###### Lasso e Ridge"
   ],
   "metadata": {
    "collapsed": false
   },
   "id": "94af98256ad62107"
  },
  {
   "cell_type": "code",
   "outputs": [],
   "source": [
    "parameters = {'C': [0.01, 0.1, 1, 10, 100], 'penalty': ['l1', 'l2']}\n",
    "\n",
    "best_feature_lasso_rigde = best_feature_grid_search(X_train, y_train, parameters, model)"
   ],
   "metadata": {
    "collapsed": false
   },
   "id": "8469ba8420daf825"
  },
  {
   "cell_type": "markdown",
   "source": [],
   "metadata": {
    "collapsed": false
   },
   "id": "365c9bf153f05007"
  },
  {
   "cell_type": "markdown",
   "source": [
    "###### Elastic Net"
   ],
   "metadata": {
    "collapsed": false
   },
   "id": "1b747bb24da2a626"
  },
  {
   "cell_type": "code",
   "outputs": [],
   "source": [
    "parameters = {'C': [0.01, 0.1, 1, 10, 100], 'penalty': ['elasticnet'], 'l1_ratio': [0.1, 0.2, 0.3, 0.4, 0.5, 0.6, 0.7, 0.8, 0.9], 'solver': ['saga']}\n",
    "best_feature_elasticnet =best_feature_grid_search(X_train, y_train, parameters, model)"
   ],
   "metadata": {
    "collapsed": false
   },
   "id": "240d7d289d8adf4c"
  },
  {
   "cell_type": "code",
   "outputs": [],
   "source": [
    "best_models_lr ={\n",
    "    'Logistic Regression with Lasso ou Ridge': LogisticRegression(C=best_feature_lasso_rigde['C'], penalty=best_feature_lasso_rigde['penalty']),\n",
    "    'Logistic Regression with Elastic Net': LogisticRegression(C=best_feature_elasticnet['C'], penalty='elasticnet', l1_ratio=best_feature_elasticnet['l1_ratio'], solver='saga' )\n",
    "}\n"
   ],
   "metadata": {
    "collapsed": false
   },
   "id": "2764c0f34e7c478e"
  },
  {
   "cell_type": "markdown",
   "source": [
    "### Holdout With Best Features"
   ],
   "metadata": {
    "collapsed": false
   },
   "id": "f10be6a7da85fbd9"
  },
  {
   "cell_type": "code",
   "outputs": [],
   "source": [
    "holdout_evaluation(data_results,best_models_lr, X_train, X_test, y_train, y_test)"
   ],
   "metadata": {
    "collapsed": false
   },
   "id": "e423ee40049d43c5"
  },
  {
   "cell_type": "markdown",
   "source": [
    "### Cross Validation (K=5) With Best Features"
   ],
   "metadata": {
    "collapsed": false
   },
   "id": "dfbd429f028fd415"
  },
  {
   "cell_type": "code",
   "outputs": [],
   "source": [
    "cross_validation_evaluation(data_results, best_models_lr, X, y, 5)"
   ],
   "metadata": {
    "collapsed": false
   },
   "id": "708896779719aa3"
  },
  {
   "cell_type": "markdown",
   "source": [
    "### Cross Validation (K=10) With Best Features"
   ],
   "metadata": {
    "collapsed": false
   },
   "id": "53186dea99f9163f"
  },
  {
   "cell_type": "code",
   "outputs": [],
   "source": [
    "cross_validation_evaluation(data_results,best_models_lr, X, y, 10)"
   ],
   "metadata": {
    "collapsed": false
   },
   "id": "aec8270c9838e618"
  },
  {
   "cell_type": "markdown",
   "source": [
    "### Leave One Out Cross Validation (LOOCV) With Best Features"
   ],
   "metadata": {
    "collapsed": false
   },
   "id": "e39b0e9c85c901fc"
  },
  {
   "cell_type": "code",
   "outputs": [],
   "source": [
    "#loocv_evaluation(data_results, best_models_lr, X, y, \" with best features\")"
   ],
   "metadata": {
    "collapsed": false
   },
   "id": "8511309ddd793257"
  },
  {
   "cell_type": "markdown",
   "source": [
    "### Bootstrap With Best Features"
   ],
   "metadata": {
    "collapsed": false
   },
   "id": "bbf057ba7af8b5aa"
  },
  {
   "cell_type": "code",
   "outputs": [],
   "source": [
    "bootstrap_evaluation(data_results, best_models_lr, X, y, 100)"
   ],
   "metadata": {
    "collapsed": false
   },
   "id": "8da2977f8fc322cc"
  },
  {
   "cell_type": "markdown",
   "source": [
    "### Results"
   ],
   "metadata": {
    "collapsed": false
   },
   "id": "dba1c036e0d23ab8"
  },
  {
   "cell_type": "code",
   "outputs": [],
   "source": [
    "data_results"
   ],
   "metadata": {
    "collapsed": false
   },
   "id": "65c3a2fc58cda37c"
  },
  {
   "cell_type": "code",
   "outputs": [],
   "source": [
    "confusion_matrix_visualization(data_results, 'Confusion Matrix')"
   ],
   "metadata": {
    "collapsed": false
   },
   "id": "f38a7816a73d821d"
  },
  {
   "cell_type": "markdown",
   "source": [
    "The results were not what we expected despite the small improvement since there is still a big misclassification betweeen the label 1 that is often classified as 2.\n",
    "\n",
    "We tried getting the dummies of the categorical classes and only using the columns that had correlation with the objective above 0.3 since we considered that smaller values could indicate no correlation at all and few columns had values higher. Surprisingly the results did not improve.\n",
    "\n",
    "Next we will apply the regularization methods and test the Ridge, Lasso and Elasticnet methods."
   ],
   "metadata": {
    "collapsed": false
   },
   "id": "4755dc70295e4dd4"
  },
  {
   "cell_type": "markdown",
   "source": [
    "### Get  data with Dummies"
   ],
   "metadata": {
    "collapsed": false
   },
   "id": "619bb41311a3dce9"
  },
  {
   "cell_type": "code",
   "outputs": [],
   "source": [
    "# Drop the encoded columns and get the dummies of the categorical columns\n",
    "\n",
    "new_data =encoded_data_without_id.drop(\n",
    "    columns=[\n",
    "        'Vegetation_Type',\n",
    "        'Soil_Type_Enc',\n",
    "        'Wilderness_Area_Enc'\n",
    "    ]\n",
    ")\n",
    "data_dummies = pd.get_dummies(new_data)"
   ],
   "metadata": {
    "collapsed": false
   },
   "id": "ec442fb45295bb49"
  },
  {
   "cell_type": "code",
   "outputs": [],
   "source": [
    "# Generate the correlation matrix\n",
    "corr_matrix = data_dummies.corr()\n",
    "sorted_corr = corr_matrix['Vegetation_Type_Enc'].sort_values()"
   ],
   "metadata": {
    "collapsed": false
   },
   "id": "451e2af65909d6ca"
  },
  {
   "cell_type": "code",
   "outputs": [],
   "source": [
    "# Plotting the sorted correlations\n",
    "barplot_correlation_visualization(sorted_corr, 'Correlation with Vegetation_Type_Enc')"
   ],
   "metadata": {
    "collapsed": false
   },
   "id": "8d5890e43c9f97df"
  },
  {
   "cell_type": "markdown",
   "source": [
    "The correlation of the features with the target column varies a lot and we can see that we have both highly correlated and uncorrelated features. We will utilize the columns with higher correlation to predict the target column."
   ],
   "metadata": {
    "collapsed": false
   },
   "id": "1af3cdac32654623"
  },
  {
   "cell_type": "markdown",
   "source": [
    "### Data Preparation with Dummies"
   ],
   "metadata": {
    "collapsed": false
   },
   "id": "3dcbb61d33de8d47"
  },
  {
   "cell_type": "code",
   "outputs": [],
   "source": [
    "# Preparing the data to use in the regularization methods\n",
    "\n",
    "X_dummies = data_dummies.drop(columns=['Vegetation_Type_Enc'])\n",
    "y_dummies = data_dummies['Vegetation_Type_Enc']\n",
    "X_train, X_test, y_train, y_test = train_test_split(X_dummies, y_dummies, test_size=0.3, random_state=42)"
   ],
   "metadata": {
    "collapsed": false
   },
   "id": "f02dfd3dbe6702c7"
  },
  {
   "cell_type": "markdown",
   "source": [
    "### Data Preparation with Best Features and Dummies"
   ],
   "metadata": {
    "collapsed": false
   },
   "id": "4b9c3142902b683a"
  },
  {
   "cell_type": "code",
   "outputs": [],
   "source": [
    "def best_feature_grid_search(X_train, y_train, parameters, model):\n",
    "    grid = GridSearchCV(model, parameters, cv=KFold(n_splits=5, shuffle=True, random_state=42))\n",
    "\n",
    "    grid.fit(X_train, y_train)\n",
    "\n",
    "    return grid.best_params_"
   ],
   "metadata": {
    "collapsed": false
   },
   "id": "56c646f38aab3f63"
  },
  {
   "cell_type": "code",
   "outputs": [],
   "source": [
    "model = LogisticRegression()"
   ],
   "metadata": {
    "collapsed": false
   },
   "id": "d3a1e4a556e14ba3"
  },
  {
   "cell_type": "code",
   "outputs": [],
   "source": [
    "parameters = {'C': [0.01, 0.1, 1, 10, 100], 'penalty': ['l1', 'l2']}\n",
    "\n",
    "best_feature_lasso_rigde = best_feature_grid_search(X_train, y_train, parameters, model)"
   ],
   "metadata": {
    "collapsed": false
   },
   "id": "611e0ead7cfb3513"
  },
  {
   "cell_type": "code",
   "outputs": [],
   "source": [
    "parameters = {'C': [0.01, 0.1, 1, 10, 100], 'penalty': ['elasticnet'],\n",
    "              'l1_ratio': [0.1, 0.2, 0.3, 0.4, 0.5, 0.6, 0.7, 0.8, 0.9], 'solver': ['saga']}\n",
    "\n",
    "best_feature_elasticnet = best_feature_grid_search(X_train, y_train, parameters, model)"
   ],
   "metadata": {
    "collapsed": false
   },
   "id": "597be2191475a175"
  },
  {
   "cell_type": "code",
   "outputs": [],
   "source": [
    "best_models_lr = {\n",
    "    'Logistic Regression with Lasso ou Ridge': LogisticRegression(C=best_feature_lasso_rigde['C'],\n",
    "                                                                  penalty=best_feature_lasso_rigde['penalty']),\n",
    "    'Logistic Regression with Elastic Net': LogisticRegression(C=best_feature_elasticnet['C'], penalty='elasticnet',\n",
    "                                                               l1_ratio=best_feature_elasticnet['l1_ratio'],\n",
    "                                                               solver='saga')\n",
    "}"
   ],
   "metadata": {
    "collapsed": false
   },
   "id": "fac4c9c8bb3f574a"
  },
  {
   "cell_type": "markdown",
   "source": [
    "### Holdout Method"
   ],
   "metadata": {
    "collapsed": false
   },
   "id": "1e6016c931c0b5cd"
  },
  {
   "cell_type": "code",
   "outputs": [],
   "source": [
    "holdout_evaluation(data_results, best_models_lr, X_train, X_test, y_train, y_test, \" dummies\")"
   ],
   "metadata": {
    "collapsed": false
   },
   "id": "9d500d8fd0fd3538"
  },
  {
   "cell_type": "markdown",
   "source": [
    "### Cross Validation (K=5)"
   ],
   "metadata": {
    "collapsed": false
   },
   "id": "4db61ee6441f3026"
  },
  {
   "cell_type": "code",
   "outputs": [],
   "source": [
    "cross_validation_evaluation(data_results, best_models_lr, X_dummies, y_dummies, 5, \" dummies\")"
   ],
   "metadata": {
    "collapsed": false
   },
   "id": "9d903d57c818236a"
  },
  {
   "cell_type": "markdown",
   "source": [
    "### Cross Validation (K=10)"
   ],
   "metadata": {
    "collapsed": false
   },
   "id": "67afb5d933a52b7b"
  },
  {
   "cell_type": "code",
   "outputs": [],
   "source": [
    "cross_validation_evaluation(data_results, best_models_lr, X_dummies, y_dummies, 10, \" dummies\")"
   ],
   "metadata": {
    "collapsed": false
   },
   "id": "1d802983c4fb1f3f"
  },
  {
   "cell_type": "markdown",
   "source": [
    "### Leave One Out with Cross Validation"
   ],
   "metadata": {
    "collapsed": false
   },
   "id": "215e2fcaec835a2f"
  },
  {
   "cell_type": "code",
   "outputs": [],
   "source": [
    "#loocv_evaluation(data_results, best_models_lr, X_dummies, y_dummies, \" dummies\")"
   ],
   "metadata": {
    "collapsed": false
   },
   "id": "631df27163cd2c23"
  },
  {
   "cell_type": "markdown",
   "source": [
    "### Bootstrap"
   ],
   "metadata": {
    "collapsed": false
   },
   "id": "7603c778a51a21e7"
  },
  {
   "cell_type": "code",
   "outputs": [],
   "source": [
    "bootstrap_evaluation(data_results, best_models_lr, X_dummies, y_dummies, 100, \" dummies\")"
   ],
   "metadata": {
    "collapsed": false
   },
   "id": "d669a5aeab5160a5"
  },
  {
   "cell_type": "markdown",
   "source": [
    "### Results with Dummies"
   ],
   "metadata": {
    "collapsed": false
   },
   "id": "f144044333f4d912"
  },
  {
   "cell_type": "code",
   "outputs": [],
   "source": [
    "data_results"
   ],
   "metadata": {
    "collapsed": false
   },
   "id": "a454aeb4d18665e8"
  },
  {
   "cell_type": "code",
   "outputs": [],
   "source": [
    "confusion_matrix_visualization(data_results, 'Confusion Matrix')"
   ],
   "metadata": {
    "collapsed": false
   },
   "id": "8c7d83ba71eaf7fb"
  },
  {
   "cell_type": "markdown",
   "source": [
    "The results were worse for the holdout method and improved for bootstrap with lasso / ridge. This means that we have our best model yet."
   ],
   "metadata": {
    "collapsed": false
   },
   "id": "4d557e8b89d33764"
  }
 ],
 "metadata": {
  "kernelspec": {
   "display_name": "venv",
   "language": "python",
   "name": "python3"
  },
  "language_info": {
   "codemirror_mode": {
    "name": "ipython",
    "version": 3
   },
   "file_extension": ".py",
   "mimetype": "text/x-python",
   "name": "python",
   "nbconvert_exporter": "python",
   "pygments_lexer": "ipython3",
   "version": "3.11.10"
  }
 },
 "nbformat": 4,
 "nbformat_minor": 5
}
